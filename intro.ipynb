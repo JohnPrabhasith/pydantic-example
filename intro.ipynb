{
 "cells": [
  {
   "cell_type": "markdown",
   "id": "e15f13ce",
   "metadata": {},
   "source": [
    "### Creating and Using Pydantic Models"
   ]
  },
  {
   "cell_type": "code",
   "execution_count": 42,
   "id": "39a3034d",
   "metadata": {},
   "outputs": [],
   "source": [
    "from pydantic import BaseModel"
   ]
  },
  {
   "cell_type": "code",
   "execution_count": 43,
   "id": "fc2f0be7",
   "metadata": {},
   "outputs": [
    {
     "name": "stdout",
     "output_type": "stream",
     "text": [
      "name='BLJP' age=21 city='Hyderabad'\n"
     ]
    }
   ],
   "source": [
    "class Person(BaseModel):\n",
    "    name : str\n",
    "    age : int\n",
    "    city : str\n",
    "\n",
    "person = Person(name='BLJP', age = 21, city = \"Hyderabad\")\n",
    "\n",
    "print(person)"
   ]
  },
  {
   "cell_type": "markdown",
   "id": "32ac5235",
   "metadata": {},
   "source": [
    "#### Model with Optional Field"
   ]
  },
  {
   "cell_type": "code",
   "execution_count": 44,
   "id": "3d066798",
   "metadata": {},
   "outputs": [],
   "source": [
    "from typing import Optional\n",
    "\n",
    "class Employee(BaseModel):\n",
    "    id : int\n",
    "    name : str\n",
    "    dept : str\n",
    "    salary : Optional['float'] = None\n",
    "    is_active : Optional['bool'] = True     \n"
   ]
  },
  {
   "cell_type": "code",
   "execution_count": 45,
   "id": "cb24ebe3",
   "metadata": {},
   "outputs": [
    {
     "data": {
      "text/plain": [
       "Employee(id=1, name='BLJP', dept='CSM', salary=None, is_active=True)"
      ]
     },
     "execution_count": 45,
     "metadata": {},
     "output_type": "execute_result"
    }
   ],
   "source": [
    "emp = Employee(id=1, name='BLJP', dept='CSM')\n",
    "emp"
   ]
  },
  {
   "cell_type": "code",
   "execution_count": 46,
   "id": "1d33e79a",
   "metadata": {},
   "outputs": [
    {
     "data": {
      "text/plain": [
       "Employee(id=1, name='BLJP', dept='CSM', salary=98000.15, is_active=True)"
      ]
     },
     "execution_count": 46,
     "metadata": {},
     "output_type": "execute_result"
    }
   ],
   "source": [
    "emp_01 = Employee(id=1, name='BLJP', dept='CSM', salary=98000.15, is_active=True)\n",
    "emp_01"
   ]
  },
  {
   "cell_type": "code",
   "execution_count": 47,
   "id": "ba8b3d6a",
   "metadata": {},
   "outputs": [],
   "source": [
    "from typing import List\n",
    "\n",
    "class ClassRoom(BaseModel):\n",
    "    room_nbr : int\n",
    "    students : List[str]\n",
    "    capacity : int\n"
   ]
  },
  {
   "cell_type": "code",
   "execution_count": 48,
   "id": "061952ed",
   "metadata": {},
   "outputs": [
    {
     "data": {
      "text/plain": [
       "ClassRoom(room_nbr=102, students=['Raju', 'Rani', 'Chor', 'Police'], capacity=6)"
      ]
     },
     "execution_count": 48,
     "metadata": {},
     "output_type": "execute_result"
    }
   ],
   "source": [
    "stds = ('Raju', 'Rani', 'Chor', 'Police')\n",
    "first_class = ClassRoom(\n",
    "    room_nbr=102,\n",
    "    students=stds,\n",
    "    capacity=6\n",
    ")\n",
    "\n",
    "first_class"
   ]
  },
  {
   "cell_type": "code",
   "execution_count": 49,
   "id": "ffc02ae5",
   "metadata": {},
   "outputs": [
    {
     "name": "stdout",
     "output_type": "stream",
     "text": [
      "1 validation error for ClassRoom\n",
      "students\n",
      "  Input should be a valid list [type=list_type, input_value=120, input_type=int]\n",
      "    For further information visit https://errors.pydantic.dev/2.11/v/list_type\n"
     ]
    }
   ],
   "source": [
    "try:\n",
    "    inval_cls = ClassRoom(\n",
    "        room_nbr=\"120\",\n",
    "        students=120,\n",
    "        capacity=410\n",
    "    )\n",
    "except ValueError as e:\n",
    "    print(e)"
   ]
  },
  {
   "cell_type": "markdown",
   "id": "86035928",
   "metadata": {},
   "source": [
    "### Model with Nested Models"
   ]
  },
  {
   "cell_type": "code",
   "execution_count": 50,
   "id": "61a47834",
   "metadata": {},
   "outputs": [
    {
     "data": {
      "text/plain": [
       "Customer(customer_id='001', name='BLJP', address=Address(street='Charminar', city='Hyderabad', zip_code=500097))"
      ]
     },
     "execution_count": 50,
     "metadata": {},
     "output_type": "execute_result"
    }
   ],
   "source": [
    "from pydantic import BaseModel\n",
    "\n",
    "class Address(BaseModel):\n",
    "    street : str\n",
    "    city : str\n",
    "    zip_code : int\n",
    "\n",
    "class Customer(BaseModel):\n",
    "    customer_id : str\n",
    "    name : str\n",
    "    address : Address\n",
    "\n",
    "\n",
    "customer_01 = Customer(\n",
    "    customer_id='001',\n",
    "    name = \"BLJP\",\n",
    "    address={\n",
    "        'street':\"Charminar\",\n",
    "        'city':\"Hyderabad\",\n",
    "        'zip_code':500097\n",
    "    }\n",
    ")\n",
    "\n",
    "customer_01"
   ]
  },
  {
   "cell_type": "markdown",
   "id": "dbd180f6",
   "metadata": {},
   "source": [
    "### Pydantic Fields"
   ]
  },
  {
   "cell_type": "code",
   "execution_count": 51,
   "id": "7d9b2481",
   "metadata": {},
   "outputs": [
    {
     "name": "stdout",
     "output_type": "stream",
     "text": [
      "name='Book' price=200.0 quantity=10.0\n"
     ]
    }
   ],
   "source": [
    "from pydantic import BaseModel, Field\n",
    "\n",
    "class Item(BaseModel):\n",
    "    name:str = Field(min_length=2, max_length=50)\n",
    "    price : float = Field(gt=0, le=1000)\n",
    "    quantity : float = Field(gt=0)\n",
    "\n",
    "item_01 = Item(name='Book', price='200', quantity=10)\n",
    "print(item_01)"
   ]
  },
  {
   "cell_type": "code",
   "execution_count": 52,
   "id": "44c09882",
   "metadata": {},
   "outputs": [
    {
     "ename": "ValidationError",
     "evalue": "1 validation error for Item\nprice\n  Input should be less than or equal to 1000 [type=less_than_equal, input_value='2000', input_type=str]\n    For further information visit https://errors.pydantic.dev/2.11/v/less_than_equal",
     "output_type": "error",
     "traceback": [
      "\u001b[31m---------------------------------------------------------------------------\u001b[39m",
      "\u001b[31mValidationError\u001b[39m                           Traceback (most recent call last)",
      "\u001b[36mCell\u001b[39m\u001b[36m \u001b[39m\u001b[32mIn[52]\u001b[39m\u001b[32m, line 1\u001b[39m\n\u001b[32m----> \u001b[39m\u001b[32m1\u001b[39m item_02 = \u001b[43mItem\u001b[49m\u001b[43m(\u001b[49m\u001b[43mname\u001b[49m\u001b[43m=\u001b[49m\u001b[33;43m'\u001b[39;49m\u001b[33;43mBook\u001b[39;49m\u001b[33;43m'\u001b[39;49m\u001b[43m,\u001b[49m\u001b[43m \u001b[49m\u001b[43mprice\u001b[49m\u001b[43m=\u001b[49m\u001b[33;43m'\u001b[39;49m\u001b[33;43m2000\u001b[39;49m\u001b[33;43m'\u001b[39;49m\u001b[43m,\u001b[49m\u001b[43m \u001b[49m\u001b[43mquantity\u001b[49m\u001b[43m=\u001b[49m\u001b[32;43m10\u001b[39;49m\u001b[43m)\u001b[49m \u001b[38;5;66;03m## Since The price is greater than 1000, error is thrown.\u001b[39;00m\n\u001b[32m      2\u001b[39m \u001b[38;5;28mprint\u001b[39m(item_02)\n",
      "\u001b[36mFile \u001b[39m\u001b[32mj:\\LangGraph\\venv\\Lib\\site-packages\\pydantic\\main.py:253\u001b[39m, in \u001b[36mBaseModel.__init__\u001b[39m\u001b[34m(self, **data)\u001b[39m\n\u001b[32m    251\u001b[39m \u001b[38;5;66;03m# `__tracebackhide__` tells pytest and some other tools to omit this function from tracebacks\u001b[39;00m\n\u001b[32m    252\u001b[39m __tracebackhide__ = \u001b[38;5;28;01mTrue\u001b[39;00m\n\u001b[32m--> \u001b[39m\u001b[32m253\u001b[39m validated_self = \u001b[38;5;28;43mself\u001b[39;49m\u001b[43m.\u001b[49m\u001b[43m__pydantic_validator__\u001b[49m\u001b[43m.\u001b[49m\u001b[43mvalidate_python\u001b[49m\u001b[43m(\u001b[49m\u001b[43mdata\u001b[49m\u001b[43m,\u001b[49m\u001b[43m \u001b[49m\u001b[43mself_instance\u001b[49m\u001b[43m=\u001b[49m\u001b[38;5;28;43mself\u001b[39;49m\u001b[43m)\u001b[49m\n\u001b[32m    254\u001b[39m \u001b[38;5;28;01mif\u001b[39;00m \u001b[38;5;28mself\u001b[39m \u001b[38;5;129;01mis\u001b[39;00m \u001b[38;5;129;01mnot\u001b[39;00m validated_self:\n\u001b[32m    255\u001b[39m     warnings.warn(\n\u001b[32m    256\u001b[39m         \u001b[33m'\u001b[39m\u001b[33mA custom validator is returning a value other than `self`.\u001b[39m\u001b[38;5;130;01m\\n\u001b[39;00m\u001b[33m'\u001b[39m\n\u001b[32m    257\u001b[39m         \u001b[33m\"\u001b[39m\u001b[33mReturning anything other than `self` from a top level model validator isn\u001b[39m\u001b[33m'\u001b[39m\u001b[33mt supported when validating via `__init__`.\u001b[39m\u001b[38;5;130;01m\\n\u001b[39;00m\u001b[33m\"\u001b[39m\n\u001b[32m    258\u001b[39m         \u001b[33m'\u001b[39m\u001b[33mSee the `model_validator` docs (https://docs.pydantic.dev/latest/concepts/validators/#model-validators) for more details.\u001b[39m\u001b[33m'\u001b[39m,\n\u001b[32m    259\u001b[39m         stacklevel=\u001b[32m2\u001b[39m,\n\u001b[32m    260\u001b[39m     )\n",
      "\u001b[31mValidationError\u001b[39m: 1 validation error for Item\nprice\n  Input should be less than or equal to 1000 [type=less_than_equal, input_value='2000', input_type=str]\n    For further information visit https://errors.pydantic.dev/2.11/v/less_than_equal"
     ]
    }
   ],
   "source": [
    "item_02 = Item(name='Book', price='2000', quantity=10) ## Since The price is greater than 1000, error is thrown.\n",
    "print(item_02)"
   ]
  },
  {
   "cell_type": "code",
   "execution_count": null,
   "id": "d8acd2a2",
   "metadata": {},
   "outputs": [],
   "source": []
  }
 ],
 "metadata": {
  "kernelspec": {
   "display_name": "venv",
   "language": "python",
   "name": "python3"
  },
  "language_info": {
   "codemirror_mode": {
    "name": "ipython",
    "version": 3
   },
   "file_extension": ".py",
   "mimetype": "text/x-python",
   "name": "python",
   "nbconvert_exporter": "python",
   "pygments_lexer": "ipython3",
   "version": "3.12.1"
  }
 },
 "nbformat": 4,
 "nbformat_minor": 5
}
